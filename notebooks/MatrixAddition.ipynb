{
 "cells": [
  {
   "cell_type": "markdown",
   "metadata": {},
   "source": [
    "# License\n",
    "\n",
    "    Jupyter notebook for accessing CUDA\n",
    "    Copyright (C) 2018 Andre.Brodtkorb@ifi.uio.no\n",
    "\n",
    "    This program is free software: you can redistribute it and/or modify\n",
    "    it under the terms of the GNU General Public License as published by\n",
    "    the Free Software Foundation, either version 3 of the License, or\n",
    "    (at your option) any later version.\n",
    "\n",
    "    This program is distributed in the hope that it will be useful,\n",
    "    but WITHOUT ANY WARRANTY; without even the implied warranty of\n",
    "    MERCHANTABILITY or FITNESS FOR A PARTICULAR PURPOSE.  See the\n",
    "    GNU General Public License for more details.\n",
    "\n",
    "    You should have received a copy of the GNU General Public License\n",
    "    along with this program.  If not, see <http://www.gnu.org/licenses/>."
   ]
  },
  {
   "cell_type": "code",
   "execution_count": 1,
   "metadata": {},
   "outputs": [],
   "source": [
    "#Lets have matplotlib \"inline\"\n",
    "%matplotlib inline\n",
    "\n",
    "#Import packages we need\n",
    "import numpy as np\n",
    "import pycuda.compiler as cuda_compiler\n",
    "from pycuda.gpuarray import GPUArray\n",
    "import pycuda.driver as cuda_driver\n",
    "\n",
    "from matplotlib import pyplot as plt"
   ]
  },
  {
   "cell_type": "code",
   "execution_count": 2,
   "metadata": {},
   "outputs": [],
   "source": [
    "#Initialize CUDA - must be first call to CUDA!\n",
    "cuda_driver.init()"
   ]
  },
  {
   "cell_type": "code",
   "execution_count": 3,
   "metadata": {},
   "outputs": [
    {
     "name": "stdout",
     "output_type": "stream",
     "text": [
      "Using 'Tesla K80'\n",
      " => compute capability: (3, 7)\n",
      " => memory: 10393 / 11441 MB available\n"
     ]
    }
   ],
   "source": [
    "#Create CUDA context\n",
    "cuda_device = cuda_driver.Device(0)\n",
    "print(\"Using '{:s}'\".format(cuda_device.name()))\n",
    "print(\" => compute capability: {:s}\".format(str(cuda_device.compute_capability())))\n",
    "context = cuda_device.make_context()\n",
    "free, total = cuda_driver.mem_get_info()\n",
    "print(\" => memory: {:d} / {:d} MB available\".format(int(free/(1024*1024)), int(total/(1024*1024))))"
   ]
  },
  {
   "cell_type": "code",
   "execution_count": 11,
   "metadata": {},
   "outputs": [],
   "source": [
    "cuda_kernel = \"\"\"\n",
    "__global__ void addVectorKernel(float* c, float* a, float* b) {\n",
    "    unsigned int i = blockIdx.x*blockDim.x + threadIdx.x;\n",
    "    c[i] = a[i] + b[i];\n",
    "}\n",
    "\n",
    "__global__ void addMatrixKernel(float* c, float* a,float* b,int cols) {\n",
    "    unsigned int i = blockIdx.x*blockDim.x + threadIdx.x;\n",
    "    unsigned int j = blockIdx.y*blockDim.y + threadIdx.y;\n",
    "    \n",
    "    //Pseudocode\n",
    "    //c[j][i] = a[j][a] + b[j][i]\n",
    "    unsigned int k = j*cols + i; \n",
    "    \n",
    "    c[k] = a[k]+b[k];\n",
    "}\n",
    "\"\"\"\n",
    "module = cuda_compiler.SourceModule(cuda_kernel)\n",
    "kernel = module.get_function(\"addMatrixKernel\");"
   ]
  },
  {
   "cell_type": "code",
   "execution_count": 14,
   "metadata": {},
   "outputs": [
    {
     "data": {
      "image/png": "[encoded data removed]",
      "text/plain": [
       "<matplotlib.figure.Figure at 0x7f31691e67b8>"
      ]
     },
     "metadata": {
      "needs_background": "light"
     },
     "output_type": "display_data"
    }
   ],
   "source": [
    "#Size of our test\n",
    "test_size = (16,24)\n",
    "\n",
    "#Create test input / output data\n",
    "a = np.random.random(test_size).astype(np.float32)\n",
    "b = np.random.random(test_size).astype(np.float32)\n",
    "c = np.empty_like(a)\n",
    "\n",
    "fig = plt.figure(figsize=(12,8))\n",
    "plt.imshow(a)\n",
    "plt.colorbar()\n",
    "fig.show()"
   ]
  },
  {
   "cell_type": "code",
   "execution_count": 15,
   "metadata": {},
   "outputs": [
    {
     "name": "stdout",
     "output_type": "stream",
     "text": [
      "(16, 24)\n"
     ]
    }
   ],
   "source": [
    "print(a.shape)"
   ]
  },
  {
   "cell_type": "code",
   "execution_count": 16,
   "metadata": {},
   "outputs": [],
   "source": [
    "#Upload data to the device\n",
    "a_g = GPUArray(a.shape, np.float32)\n",
    "b_g = GPUArray(b.shape, np.float32)\n",
    "a_g.set(a)\n",
    "b_g.set(b)"
   ]
  },
  {
   "cell_type": "code",
   "execution_count": 17,
   "metadata": {},
   "outputs": [],
   "source": [
    "#Allocate output data\n",
    "c_g = GPUArray(c.shape, np.float32)"
   ]
  },
  {
   "cell_type": "code",
   "execution_count": 28,
   "metadata": {},
   "outputs": [
    {
     "name": "stdout",
     "output_type": "stream",
     "text": [
      "Domain size is (24, 16)\n",
      "Block size is (8, 4, 1)\n",
      "Grid size is (3, 4, 1)\n"
     ]
    }
   ],
   "source": [
    "#a.shape = [rows,coloms] [y,x]\n",
    "domain_size = (a.shape[1], a.shape[0])\n",
    "block_size = (8,4,1)\n",
    "grid_size = (domain_size[0] // block_size[0] , domain_size[1] // block_size[1] ,1)\n",
    "\n",
    "print(\"Domain size is \" + str(domain_size))\n",
    "print(\"Block size is \" + str(block_size))\n",
    "print(\"Grid size is \" + str(grid_size))"
   ]
  },
  {
   "cell_type": "code",
   "execution_count": 30,
   "metadata": {},
   "outputs": [
    {
     "data": {
      "text/plain": [
       "array([[1.2670252 , 1.2939982 , 0.1795862 , 1.147308  , 1.410474  ,\n",
       "        0.98971945, 1.0829449 , 0.6922404 , 1.5607575 , 1.3662022 ,\n",
       "        1.2093141 , 1.3361888 , 1.4843855 , 1.103981  , 1.4601374 ,\n",
       "        1.2946949 , 1.3074102 , 1.0193341 , 0.97484124, 0.88232833,\n",
       "        1.0513122 , 1.2449727 , 0.72059864, 0.8919766 ],\n",
       "       [1.4117284 , 1.1045349 , 1.3405764 , 0.7993507 , 0.9835385 ,\n",
       "        0.9556308 , 0.22444333, 1.5110801 , 1.3587303 , 0.9559755 ,\n",
       "        1.6048164 , 0.6743897 , 1.5999377 , 1.0231073 , 1.7769632 ,\n",
       "        0.40569583, 1.0030105 , 0.2477377 , 0.8222118 , 1.6175578 ,\n",
       "        1.7014586 , 0.93224084, 1.5960217 , 0.99658793],\n",
       "       [1.5239207 , 1.4647486 , 1.5938659 , 1.2497057 , 1.7421247 ,\n",
       "        1.0218006 , 0.9692362 , 1.2762638 , 1.49773   , 0.6892889 ,\n",
       "        1.6024733 , 0.9851914 , 1.524117  , 1.0122479 , 1.2242451 ,\n",
       "        1.1313636 , 1.8749399 , 0.827848  , 1.3645414 , 0.8952074 ,\n",
       "        1.2849805 , 0.97164404, 0.19771793, 0.7703601 ],\n",
       "       [0.4919056 , 1.2903811 , 0.5158356 , 1.0935092 , 0.9072558 ,\n",
       "        0.71964216, 1.0266935 , 0.6733116 , 1.6995797 , 0.71483135,\n",
       "        0.23652443, 0.42175412, 0.6269155 , 0.51639736, 1.0949839 ,\n",
       "        1.2912685 , 1.0835948 , 1.0636203 , 1.2877604 , 1.4128796 ,\n",
       "        0.62793577, 1.100575  , 1.2289325 , 1.5409839 ],\n",
       "       [1.2017906 , 0.2956748 , 1.4233248 , 1.3880594 , 0.5761703 ,\n",
       "        1.700313  , 0.8012048 , 0.38418043, 1.0898216 , 1.0645264 ,\n",
       "        1.5116715 , 1.3752916 , 1.7914317 , 1.0415181 , 1.7262003 ,\n",
       "        1.3200147 , 1.7479491 , 1.2795545 , 0.87391376, 0.5707043 ,\n",
       "        1.1365602 , 1.8771685 , 0.79015285, 0.93807316],\n",
       "       [1.5267208 , 1.0885317 , 1.4807833 , 1.4615757 , 1.1828346 ,\n",
       "        0.565029  , 0.6630597 , 0.7274047 , 0.6011094 , 1.0613301 ,\n",
       "        1.0151938 , 0.15799217, 1.6421592 , 0.74617946, 1.092839  ,\n",
       "        0.47699115, 1.7078762 , 1.4415109 , 1.0504376 , 1.5773224 ,\n",
       "        0.2874359 , 0.67363775, 0.5414471 , 1.1788657 ],\n",
       "       [0.52576375, 0.39928606, 0.9212572 , 1.4633639 , 1.4256088 ,\n",
       "        1.1766272 , 1.2093556 , 1.1763973 , 1.0179758 , 0.37409392,\n",
       "        0.6953368 , 0.73332274, 0.67545205, 0.43842387, 1.4859172 ,\n",
       "        1.2561855 , 1.9073486 , 1.0517776 , 1.5188746 , 0.5022233 ,\n",
       "        0.7262644 , 0.3696909 , 1.8550459 , 1.5007992 ],\n",
       "       [1.5430052 , 1.4189435 , 1.5724645 , 1.6612012 , 1.3842332 ,\n",
       "        0.65639675, 1.0415316 , 0.39254665, 1.6581051 , 0.4863938 ,\n",
       "        0.43676943, 0.3732149 , 0.41434306, 0.8963268 , 0.7573659 ,\n",
       "        0.77259946, 0.6339271 , 0.5287581 , 0.98957837, 0.5910897 ,\n",
       "        0.5950032 , 0.466012  , 1.5428855 , 1.0998058 ],\n",
       "       [1.1297745 , 1.7190768 , 1.6705775 , 1.1375566 , 0.47610918,\n",
       "        0.8972671 , 0.9660436 , 0.20118394, 0.9927895 , 1.2198653 ,\n",
       "        1.484241  , 0.68607986, 1.8587117 , 0.925217  , 1.0538135 ,\n",
       "        0.39023745, 1.0675403 , 0.64091384, 0.9906212 , 1.3209591 ,\n",
       "        1.6139183 , 0.49275985, 0.8193567 , 1.4105964 ],\n",
       "       [1.5780963 , 1.4639008 , 1.4204276 , 1.0566156 , 1.3807378 ,\n",
       "        0.28413454, 0.81351584, 0.8051896 , 0.79823756, 0.69987303,\n",
       "        0.3178394 , 1.2309757 , 0.7832397 , 1.7438502 , 0.9819521 ,\n",
       "        0.95379466, 1.2357237 , 1.3904757 , 0.42353457, 0.6401567 ,\n",
       "        1.0647888 , 0.3232325 , 0.74171525, 1.0588149 ],\n",
       "       [0.5881854 , 0.66422135, 0.33484584, 1.1345208 , 1.3809747 ,\n",
       "        0.5946904 , 0.9353278 , 0.565031  , 0.41236922, 1.5562379 ,\n",
       "        0.876905  , 0.58375025, 1.3772469 , 1.4308527 , 0.62775135,\n",
       "        1.520473  , 1.3812773 , 0.508654  , 1.4211009 , 0.3626441 ,\n",
       "        1.7771797 , 1.216311  , 1.7406094 , 0.6499827 ],\n",
       "       [1.2710605 , 1.6594298 , 1.0343482 , 1.184727  , 1.718298  ,\n",
       "        0.62378   , 0.5273193 , 1.2900914 , 0.9781116 , 1.8479917 ,\n",
       "        1.3908617 , 1.0713474 , 1.4349756 , 1.218797  , 0.74138796,\n",
       "        1.2618653 , 1.3544319 , 0.7205459 , 0.9312415 , 0.75666314,\n",
       "        1.0003549 , 1.3425674 , 0.43860006, 0.27580377],\n",
       "       [1.5744977 , 1.1080627 , 1.498327  , 1.182826  , 0.8958101 ,\n",
       "        0.9308716 , 1.4609375 , 0.97765636, 1.7368882 , 0.5426639 ,\n",
       "        1.1636208 , 1.0088966 , 1.3308356 , 0.93878776, 1.3018092 ,\n",
       "        1.2812175 , 0.45632476, 0.37435794, 1.095622  , 1.2237029 ,\n",
       "        1.4542711 , 1.2213616 , 0.9631563 , 1.0013885 ],\n",
       "       [0.94621396, 0.56491494, 0.683394  , 1.2687478 , 0.889482  ,\n",
       "        1.349142  , 1.0544571 , 1.5131121 , 1.422675  , 1.2405804 ,\n",
       "        0.9413458 , 0.5801122 , 1.0442554 , 0.66971517, 1.6125237 ,\n",
       "        1.2663983 , 1.4758806 , 0.63575846, 1.7671874 , 1.5797452 ,\n",
       "        0.77606475, 1.6216063 , 0.7997827 , 1.6356552 ],\n",
       "       [1.3356915 , 0.83915794, 1.4409927 , 1.0228821 , 0.27401382,\n",
       "        1.4745035 , 0.985005  , 0.53268933, 0.3323229 , 0.24015352,\n",
       "        0.56459373, 1.6803701 , 0.84895325, 1.095189  , 0.71743286,\n",
       "        0.87884593, 0.83395994, 1.0330079 , 1.2329228 , 0.48397604,\n",
       "        1.4508364 , 1.3795663 , 0.446665  , 1.2649081 ],\n",
       "       [1.6975517 , 1.789479  , 1.7893237 , 1.6060512 , 0.68588656,\n",
       "        0.69713944, 0.90542763, 1.4050896 , 0.7786021 , 1.7345916 ,\n",
       "        0.6963182 , 1.0519003 , 1.2644684 , 1.4530537 , 1.3323145 ,\n",
       "        0.47965252, 1.4282622 , 1.7620041 , 1.1615422 , 1.7014748 ,\n",
       "        1.1316624 , 0.7211532 , 1.2690027 , 0.6156113 ]], dtype=float32)"
      ]
     },
     "execution_count": 30,
     "metadata": {},
     "output_type": "execute_result"
    }
   ],
   "source": [
    "#Execute program on device\n",
    "kernel(c_g, a_g, b_g, np.int32(domain_size[0]), block=block_size, grid=grid_size)\n",
    "\n",
    "#Copy data from device to host\n",
    "c_g.get(c)"
   ]
  },
  {
   "cell_type": "code",
   "execution_count": 31,
   "metadata": {},
   "outputs": [
    {
     "name": "stdout",
     "output_type": "stream",
     "text": [
      "C   =  [[1.2670252  1.2939982  0.1795862  1.147308   1.410474   0.98971945\n",
      "  1.0829449  0.6922404  1.5607575  1.3662022  1.2093141  1.3361888\n",
      "  1.4843855  1.103981   1.4601374  1.2946949  1.3074102  1.0193341\n",
      "  0.97484124 0.88232833 1.0513122  1.2449727  0.72059864 0.8919766 ]\n",
      " [1.4117284  1.1045349  1.3405764  0.7993507  0.9835385  0.9556308\n",
      "  0.22444333 1.5110801  1.3587303  0.9559755  1.6048164  0.6743897\n",
      "  1.5999377  1.0231073  1.7769632  0.40569583 1.0030105  0.2477377\n",
      "  0.8222118  1.6175578  1.7014586  0.93224084 1.5960217  0.99658793]\n",
      " [1.5239207  1.4647486  1.5938659  1.2497057  1.7421247  1.0218006\n",
      "  0.9692362  1.2762638  1.49773    0.6892889  1.6024733  0.9851914\n",
      "  1.524117   1.0122479  1.2242451  1.1313636  1.8749399  0.827848\n",
      "  1.3645414  0.8952074  1.2849805  0.97164404 0.19771793 0.7703601 ]\n",
      " [0.4919056  1.2903811  0.5158356  1.0935092  0.9072558  0.71964216\n",
      "  1.0266935  0.6733116  1.6995797  0.71483135 0.23652443 0.42175412\n",
      "  0.6269155  0.51639736 1.0949839  1.2912685  1.0835948  1.0636203\n",
      "  1.2877604  1.4128796  0.62793577 1.100575   1.2289325  1.5409839 ]\n",
      " [1.2017906  0.2956748  1.4233248  1.3880594  0.5761703  1.700313\n",
      "  0.8012048  0.38418043 1.0898216  1.0645264  1.5116715  1.3752916\n",
      "  1.7914317  1.0415181  1.7262003  1.3200147  1.7479491  1.2795545\n",
      "  0.87391376 0.5707043  1.1365602  1.8771685  0.79015285 0.93807316]\n",
      " [1.5267208  1.0885317  1.4807833  1.4615757  1.1828346  0.565029\n",
      "  0.6630597  0.7274047  0.6011094  1.0613301  1.0151938  0.15799217\n",
      "  1.6421592  0.74617946 1.092839   0.47699115 1.7078762  1.4415109\n",
      "  1.0504376  1.5773224  0.2874359  0.67363775 0.5414471  1.1788657 ]\n",
      " [0.52576375 0.39928606 0.9212572  1.4633639  1.4256088  1.1766272\n",
      "  1.2093556  1.1763973  1.0179758  0.37409392 0.6953368  0.73332274\n",
      "  0.67545205 0.43842387 1.4859172  1.2561855  1.9073486  1.0517776\n",
      "  1.5188746  0.5022233  0.7262644  0.3696909  1.8550459  1.5007992 ]\n",
      " [1.5430052  1.4189435  1.5724645  1.6612012  1.3842332  0.65639675\n",
      "  1.0415316  0.39254665 1.6581051  0.4863938  0.43676943 0.3732149\n",
      "  0.41434306 0.8963268  0.7573659  0.77259946 0.6339271  0.5287581\n",
      "  0.98957837 0.5910897  0.5950032  0.466012   1.5428855  1.0998058 ]\n",
      " [1.1297745  1.7190768  1.6705775  1.1375566  0.47610918 0.8972671\n",
      "  0.9660436  0.20118394 0.9927895  1.2198653  1.484241   0.68607986\n",
      "  1.8587117  0.925217   1.0538135  0.39023745 1.0675403  0.64091384\n",
      "  0.9906212  1.3209591  1.6139183  0.49275985 0.8193567  1.4105964 ]\n",
      " [1.5780963  1.4639008  1.4204276  1.0566156  1.3807378  0.28413454\n",
      "  0.81351584 0.8051896  0.79823756 0.69987303 0.3178394  1.2309757\n",
      "  0.7832397  1.7438502  0.9819521  0.95379466 1.2357237  1.3904757\n",
      "  0.42353457 0.6401567  1.0647888  0.3232325  0.74171525 1.0588149 ]\n",
      " [0.5881854  0.66422135 0.33484584 1.1345208  1.3809747  0.5946904\n",
      "  0.9353278  0.565031   0.41236922 1.5562379  0.876905   0.58375025\n",
      "  1.3772469  1.4308527  0.62775135 1.520473   1.3812773  0.508654\n",
      "  1.4211009  0.3626441  1.7771797  1.216311   1.7406094  0.6499827 ]\n",
      " [1.2710605  1.6594298  1.0343482  1.184727   1.718298   0.62378\n",
      "  0.5273193  1.2900914  0.9781116  1.8479917  1.3908617  1.0713474\n",
      "  1.4349756  1.218797   0.74138796 1.2618653  1.3544319  0.7205459\n",
      "  0.9312415  0.75666314 1.0003549  1.3425674  0.43860006 0.27580377]\n",
      " [1.5744977  1.1080627  1.498327   1.182826   0.8958101  0.9308716\n",
      "  1.4609375  0.97765636 1.7368882  0.5426639  1.1636208  1.0088966\n",
      "  1.3308356  0.93878776 1.3018092  1.2812175  0.45632476 0.37435794\n",
      "  1.095622   1.2237029  1.4542711  1.2213616  0.9631563  1.0013885 ]\n",
      " [0.94621396 0.56491494 0.683394   1.2687478  0.889482   1.349142\n",
      "  1.0544571  1.5131121  1.422675   1.2405804  0.9413458  0.5801122\n",
      "  1.0442554  0.66971517 1.6125237  1.2663983  1.4758806  0.63575846\n",
      "  1.7671874  1.5797452  0.77606475 1.6216063  0.7997827  1.6356552 ]\n",
      " [1.3356915  0.83915794 1.4409927  1.0228821  0.27401382 1.4745035\n",
      "  0.985005   0.53268933 0.3323229  0.24015352 0.56459373 1.6803701\n",
      "  0.84895325 1.095189   0.71743286 0.87884593 0.83395994 1.0330079\n",
      "  1.2329228  0.48397604 1.4508364  1.3795663  0.446665   1.2649081 ]\n",
      " [1.6975517  1.789479   1.7893237  1.6060512  0.68588656 0.69713944\n",
      "  0.90542763 1.4050896  0.7786021  1.7345916  0.6963182  1.0519003\n",
      "  1.2644684  1.4530537  1.3323145  0.47965252 1.4282622  1.7620041\n",
      "  1.1615422  1.7014748  1.1316624  0.7211532  1.2690027  0.6156113 ]]\n",
      "Ref =  [[1.2670252  1.2939982  0.1795862  1.147308   1.410474   0.98971945\n",
      "  1.0829449  0.6922404  1.5607575  1.3662022  1.2093141  1.3361888\n",
      "  1.4843855  1.103981   1.4601374  1.2946949  1.3074102  1.0193341\n",
      "  0.97484124 0.88232833 1.0513122  1.2449727  0.72059864 0.8919766 ]\n",
      " [1.4117284  1.1045349  1.3405764  0.7993507  0.9835385  0.9556308\n",
      "  0.22444333 1.5110801  1.3587303  0.9559755  1.6048164  0.6743897\n",
      "  1.5999377  1.0231073  1.7769632  0.40569583 1.0030105  0.2477377\n",
      "  0.8222118  1.6175578  1.7014586  0.93224084 1.5960217  0.99658793]\n",
      " [1.5239207  1.4647486  1.5938659  1.2497057  1.7421247  1.0218006\n",
      "  0.9692362  1.2762638  1.49773    0.6892889  1.6024733  0.9851914\n",
      "  1.524117   1.0122479  1.2242451  1.1313636  1.8749399  0.827848\n",
      "  1.3645414  0.8952074  1.2849805  0.97164404 0.19771793 0.7703601 ]\n",
      " [0.4919056  1.2903811  0.5158356  1.0935092  0.9072558  0.71964216\n",
      "  1.0266935  0.6733116  1.6995797  0.71483135 0.23652443 0.42175412\n",
      "  0.6269155  0.51639736 1.0949839  1.2912685  1.0835948  1.0636203\n",
      "  1.2877604  1.4128796  0.62793577 1.100575   1.2289325  1.5409839 ]\n",
      " [1.2017906  0.2956748  1.4233248  1.3880594  0.5761703  1.700313\n",
      "  0.8012048  0.38418043 1.0898216  1.0645264  1.5116715  1.3752916\n",
      "  1.7914317  1.0415181  1.7262003  1.3200147  1.7479491  1.2795545\n",
      "  0.87391376 0.5707043  1.1365602  1.8771685  0.79015285 0.93807316]\n",
      " [1.5267208  1.0885317  1.4807833  1.4615757  1.1828346  0.565029\n",
      "  0.6630597  0.7274047  0.6011094  1.0613301  1.0151938  0.15799217\n",
      "  1.6421592  0.74617946 1.092839   0.47699115 1.7078762  1.4415109\n",
      "  1.0504376  1.5773224  0.2874359  0.67363775 0.5414471  1.1788657 ]\n",
      " [0.52576375 0.39928606 0.9212572  1.4633639  1.4256088  1.1766272\n",
      "  1.2093556  1.1763973  1.0179758  0.37409392 0.6953368  0.73332274\n",
      "  0.67545205 0.43842387 1.4859172  1.2561855  1.9073486  1.0517776\n",
      "  1.5188746  0.5022233  0.7262644  0.3696909  1.8550459  1.5007992 ]\n",
      " [1.5430052  1.4189435  1.5724645  1.6612012  1.3842332  0.65639675\n",
      "  1.0415316  0.39254665 1.6581051  0.4863938  0.43676943 0.3732149\n",
      "  0.41434306 0.8963268  0.7573659  0.77259946 0.6339271  0.5287581\n",
      "  0.98957837 0.5910897  0.5950032  0.466012   1.5428855  1.0998058 ]\n",
      " [1.1297745  1.7190768  1.6705775  1.1375566  0.47610918 0.8972671\n",
      "  0.9660436  0.20118394 0.9927895  1.2198653  1.484241   0.68607986\n",
      "  1.8587117  0.925217   1.0538135  0.39023745 1.0675403  0.64091384\n",
      "  0.9906212  1.3209591  1.6139183  0.49275985 0.8193567  1.4105964 ]\n",
      " [1.5780963  1.4639008  1.4204276  1.0566156  1.3807378  0.28413454\n",
      "  0.81351584 0.8051896  0.79823756 0.69987303 0.3178394  1.2309757\n",
      "  0.7832397  1.7438502  0.9819521  0.95379466 1.2357237  1.3904757\n",
      "  0.42353457 0.6401567  1.0647888  0.3232325  0.74171525 1.0588149 ]\n",
      " [0.5881854  0.66422135 0.33484584 1.1345208  1.3809747  0.5946904\n",
      "  0.9353278  0.565031   0.41236922 1.5562379  0.876905   0.58375025\n",
      "  1.3772469  1.4308527  0.62775135 1.520473   1.3812773  0.508654\n",
      "  1.4211009  0.3626441  1.7771797  1.216311   1.7406094  0.6499827 ]\n",
      " [1.2710605  1.6594298  1.0343482  1.184727   1.718298   0.62378\n",
      "  0.5273193  1.2900914  0.9781116  1.8479917  1.3908617  1.0713474\n",
      "  1.4349756  1.218797   0.74138796 1.2618653  1.3544319  0.7205459\n",
      "  0.9312415  0.75666314 1.0003549  1.3425674  0.43860006 0.27580377]\n",
      " [1.5744977  1.1080627  1.498327   1.182826   0.8958101  0.9308716\n",
      "  1.4609375  0.97765636 1.7368882  0.5426639  1.1636208  1.0088966\n",
      "  1.3308356  0.93878776 1.3018092  1.2812175  0.45632476 0.37435794\n",
      "  1.095622   1.2237029  1.4542711  1.2213616  0.9631563  1.0013885 ]\n",
      " [0.94621396 0.56491494 0.683394   1.2687478  0.889482   1.349142\n",
      "  1.0544571  1.5131121  1.422675   1.2405804  0.9413458  0.5801122\n",
      "  1.0442554  0.66971517 1.6125237  1.2663983  1.4758806  0.63575846\n",
      "  1.7671874  1.5797452  0.77606475 1.6216063  0.7997827  1.6356552 ]\n",
      " [1.3356915  0.83915794 1.4409927  1.0228821  0.27401382 1.4745035\n",
      "  0.985005   0.53268933 0.3323229  0.24015352 0.56459373 1.6803701\n",
      "  0.84895325 1.095189   0.71743286 0.87884593 0.83395994 1.0330079\n",
      "  1.2329228  0.48397604 1.4508364  1.3795663  0.446665   1.2649081 ]\n",
      " [1.6975517  1.789479   1.7893237  1.6060512  0.68588656 0.69713944\n",
      "  0.90542763 1.4050896  0.7786021  1.7345916  0.6963182  1.0519003\n",
      "  1.2644684  1.4530537  1.3323145  0.47965252 1.4282622  1.7620041\n",
      "  1.1615422  1.7014748  1.1316624  0.7211532  1.2690027  0.6156113 ]]\n",
      "Sad =  0.0\n"
     ]
    }
   ],
   "source": [
    "#Compute reference using Numpy\n",
    "c_ref = a + b\n",
    "\n",
    "#Print result\n",
    "print(\"C   = \", c)\n",
    "print(\"Ref = \", c_ref)\n",
    "print(\"Sad = \", np.sum(np.abs(c - c_ref)))"
   ]
  },
  {
   "cell_type": "code",
   "execution_count": 33,
   "metadata": {},
   "outputs": [
    {
     "data": {
      "text/plain": [
       "<matplotlib.image.AxesImage at 0x7f3168fbe5c0>"
      ]
     },
     "execution_count": 33,
     "metadata": {},
     "output_type": "execute_result"
    },
    {
     "data": {
      "image/png": "[encoded data removed]",
      "text/plain": [
       "<matplotlib.figure.Figure at 0x7f316914beb8>"
      ]
     },
     "metadata": {
      "needs_background": "light"
     },
     "output_type": "display_data"
    }
   ],
   "source": [
    "fig = plt.figure(figsize=(12,8))\n",
    "plt.subplot(1,2,1)\n",
    "plt.imshow(c)\n",
    "plt.subplot(1,2,2)\n",
    "plt.imshow(c_ref)\n"
   ]
  },
  {
   "cell_type": "code",
   "execution_count": null,
   "metadata": {},
   "outputs": [],
   "source": []
  }
 ],
 "metadata": {
  "kernelspec": {
   "display_name": "Python 3",
   "language": "python",
   "name": "python3"
  },
  "language_info": {
   "codemirror_mode": {
    "name": "ipython",
    "version": 3
   },
   "file_extension": ".py",
   "mimetype": "text/x-python",
   "name": "python",
   "nbconvert_exporter": "python",
   "pygments_lexer": "ipython3",
   "version": "3.6.6"
  }
 },
 "nbformat": 4,
 "nbformat_minor": 2
}
