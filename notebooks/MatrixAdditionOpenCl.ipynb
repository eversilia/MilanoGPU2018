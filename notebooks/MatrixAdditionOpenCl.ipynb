{
 "cells": [
  {
   "cell_type": "markdown",
   "metadata": {},
   "source": [
    "# License\n",
    "\n",
    "    Jupyter notebook for accessing OpenCL\n",
    "    Copyright (C) 2015, 2018 Andre.Brodtkorb@ifi.uio.no\n",
    "\n",
    "    This program is free software: you can redistribute it and/or modify\n",
    "    it under the terms of the GNU General Public License as published by\n",
    "    the Free Software Foundation, either version 3 of the License, or\n",
    "    (at your option) any later version.\n",
    "\n",
    "    This program is distributed in the hope that it will be useful,\n",
    "    but WITHOUT ANY WARRANTY; without even the implied warranty of\n",
    "    MERCHANTABILITY or FITNESS FOR A PARTICULAR PURPOSE.  See the\n",
    "    GNU General Public License for more details.\n",
    "\n",
    "    You should have received a copy of the GNU General Public License\n",
    "    along with this program.  If not, see <http://www.gnu.org/licenses/>."
   ]
  },
  {
   "cell_type": "code",
   "execution_count": 1,
   "metadata": {},
   "outputs": [],
   "source": [
    "#Lets have matplotlib \"inline\"\n",
    "%matplotlib inline\n",
    "\n",
    "#Lets have opencl ipython integration enabled\n",
    "%load_ext pyopencl.ipython_ext\n",
    "\n",
    "#Import packages we need\n",
    "import os\n",
    "import numpy as np\n",
    "import pyopencl as cl\n",
    "\n",
    "from matplotlib import pyplot as plt\n",
    "\n",
    "#Make sure we get compiler output from OpenCL\n",
    "import os\n",
    "os.environ[\"PYOPENCL_COMPILER_OUTPUT\"] = \"1\""
   ]
  },
  {
   "cell_type": "code",
   "execution_count": 2,
   "metadata": {},
   "outputs": [
    {
     "name": "stdout",
     "output_type": "stream",
     "text": [
      "Using  Intel(R) Xeon(R) CPU E5-2686 v4 @ 2.30GHz\n"
     ]
    }
   ],
   "source": [
    "#Determine which GPU to use\n",
    "os.environ[\"PYOPENCL_CTX\"] = \"1\"\n",
    "\n",
    "#Create OpenCL context\n",
    "cl_ctx = cl.create_some_context()\n",
    "\n",
    "print(\"Using \", cl_ctx.devices[0].name)\n",
    "\n",
    "#Create an OpenCL command queue\n",
    "cl_queue = cl.CommandQueue(cl_ctx)"
   ]
  },
  {
   "cell_type": "code",
   "execution_count": 7,
   "metadata": {},
   "outputs": [],
   "source": [
    "%%cl_kernel \n",
    "__kernel void addKernel(__global float *c, __global const float *a, __global const float *b) {\n",
    "  int gid = get_global_id(0);\n",
    "  c[gid] = a[gid] + b[gid];\n",
    "}"
   ]
  },
  {
   "cell_type": "code",
   "execution_count": 8,
   "metadata": {},
   "outputs": [
    {
     "data": {
      "text/plain": [
       "<pyopencl.cffi_cl.NannyEvent at 0x7f2db856bcc0>"
      ]
     },
     "execution_count": 8,
     "metadata": {},
     "output_type": "execute_result"
    }
   ],
   "source": [
    "#Size of our test\n",
    "n = 50\n",
    "\n",
    "#Create test input / output data\n",
    "#for matrix addition nettdo to use np.random.random((size)) for 2d\n",
    "a = np.random.rand(n).astype(np.float32)\n",
    "b = np.random.rand(n).astype(np.float32)\n",
    "c = np.empty_like(a)\n",
    "\n",
    "#Upload data to the device\n",
    "mf = cl.mem_flags\n",
    "a_g = cl.Buffer(cl_ctx, mf.READ_ONLY | mf.COPY_HOST_PTR, hostbuf=a)\n",
    "b_g = cl.Buffer(cl_ctx, mf.READ_ONLY | mf.COPY_HOST_PTR, hostbuf=b)\n",
    "\n",
    "#Allocate output data\n",
    "c_g = cl.Buffer(cl_ctx, mf.WRITE_ONLY, a.nbytes)\n",
    "\n",
    "#Execute program on device\n",
    "addKernel(cl_queue, a.shape, None, c_g, a_g, b_g)\n",
    "\n",
    "#Copy data from device to host\n",
    "cl.enqueue_copy(cl_queue, c, c_g)"
   ]
  },
  {
   "cell_type": "code",
   "execution_count": 5,
   "metadata": {},
   "outputs": [
    {
     "name": "stdout",
     "output_type": "stream",
     "text": [
      "C   =  [1.4084702  1.7012322  1.2333423  1.0858129  0.6992147  1.1399573\n",
      " 0.8073475  0.3159153  0.8420586  1.8738245  1.0003643  1.4001684\n",
      " 0.79354334 1.5407007  0.87809074 0.40751928 1.0184538  1.6188397\n",
      " 1.0065798  1.8310091  0.8486605  1.4358127  1.1821806  0.97773695\n",
      " 0.671486   0.62798846 0.92077184 0.4111154  1.3217256  0.960745\n",
      " 0.97981465 1.154185   0.92222506 0.23737362 1.4354153  0.9885354\n",
      " 1.8905491  0.9351794  1.1523733  0.3690854  1.2016618  0.3687916\n",
      " 0.46703088 0.27290165 1.1107076  0.3277782  1.5968392  1.6489525\n",
      " 0.13565806 1.4582984 ]\n",
      "Ref =  [1.4084702  1.7012322  1.2333423  1.0858129  0.6992147  1.1399573\n",
      " 0.8073475  0.3159153  0.8420586  1.8738245  1.0003643  1.4001684\n",
      " 0.79354334 1.5407007  0.87809074 0.40751928 1.0184538  1.6188397\n",
      " 1.0065798  1.8310091  0.8486605  1.4358127  1.1821806  0.97773695\n",
      " 0.671486   0.62798846 0.92077184 0.4111154  1.3217256  0.960745\n",
      " 0.97981465 1.154185   0.92222506 0.23737362 1.4354153  0.9885354\n",
      " 1.8905491  0.9351794  1.1523733  0.3690854  1.2016618  0.3687916\n",
      " 0.46703088 0.27290165 1.1107076  0.3277782  1.5968392  1.6489525\n",
      " 0.13565806 1.4582984 ]\n",
      "Sad =  0.0\n"
     ]
    }
   ],
   "source": [
    "#Compute reference using Numpy\n",
    "c_ref = a + b\n",
    "\n",
    "#Print result\n",
    "print(\"C   = \", c)\n",
    "print(\"Ref = \", c_ref)\n",
    "print(\"Sad = \", np.sum(np.abs(c - c_ref)))"
   ]
  },
  {
   "cell_type": "code",
   "execution_count": 9,
   "metadata": {},
   "outputs": [
    {
     "ename": "NameError",
     "evalue": "name 'c_ref' is not defined",
     "output_type": "error",
     "traceback": [
      "\u001b[0;31m---------------------------------------------------------------------------\u001b[0m",
      "\u001b[0;31mNameError\u001b[0m                                 Traceback (most recent call last)",
      "\u001b[0;32m<ipython-input-9-701dea450f8d>\u001b[0m in \u001b[0;36m<module>\u001b[0;34m\u001b[0m\n\u001b[1;32m      1\u001b[0m \u001b[0mplt\u001b[0m\u001b[0;34m.\u001b[0m\u001b[0mfigure\u001b[0m\u001b[0;34m(\u001b[0m\u001b[0;34m)\u001b[0m\u001b[0;34m\u001b[0m\u001b[0m\n\u001b[1;32m      2\u001b[0m \u001b[0mplt\u001b[0m\u001b[0;34m.\u001b[0m\u001b[0mplot\u001b[0m\u001b[0;34m(\u001b[0m\u001b[0mc\u001b[0m\u001b[0;34m,\u001b[0m \u001b[0;34m'+r'\u001b[0m\u001b[0;34m)\u001b[0m\u001b[0;34m\u001b[0m\u001b[0m\n\u001b[0;32m----> 3\u001b[0;31m \u001b[0mplt\u001b[0m\u001b[0;34m.\u001b[0m\u001b[0mplot\u001b[0m\u001b[0;34m(\u001b[0m\u001b[0mc_ref\u001b[0m\u001b[0;34m,\u001b[0m \u001b[0;34m'xb'\u001b[0m\u001b[0;34m)\u001b[0m\u001b[0;34m\u001b[0m\u001b[0m\n\u001b[0m",
      "\u001b[0;31mNameError\u001b[0m: name 'c_ref' is not defined"
     ]
    },
    {
     "data": {
      "image/png": "[encoded data removed]",
      "text/plain": [
       "<matplotlib.figure.Figure at 0x7f2db855e8d0>"
      ]
     },
     "metadata": {
      "needs_background": "light"
     },
     "output_type": "display_data"
    }
   ],
   "source": [
    "plt.figure()\n",
    "plt.plot(c, '+r')\n",
    "plt.plot(c_ref, 'xb')"
   ]
  },
  {
   "cell_type": "code",
   "execution_count": null,
   "metadata": {
    "collapsed": true
   },
   "outputs": [],
   "source": []
  }
 ],
 "metadata": {
  "kernelspec": {
   "display_name": "Python 3",
   "language": "python",
   "name": "python3"
  },
  "language_info": {
   "codemirror_mode": {
    "name": "ipython",
    "version": 3
   },
   "file_extension": ".py",
   "mimetype": "text/x-python",
   "name": "python",
   "nbconvert_exporter": "python",
   "pygments_lexer": "ipython3",
   "version": "3.6.6"
  }
 },
 "nbformat": 4,
 "nbformat_minor": 2
}
